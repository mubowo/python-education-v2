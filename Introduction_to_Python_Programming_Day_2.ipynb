{
  "nbformat": 4,
  "nbformat_minor": 0,
  "metadata": {
    "colab": {
      "name": "Introduction to Python Programming - Day 2.ipynb",
      "provenance": [],
      "collapsed_sections": [],
      "authorship_tag": "ABX9TyOOz1FmLd0DYAsVR16moHqd",
      "include_colab_link": true
    },
    "kernelspec": {
      "name": "python3",
      "display_name": "Python 3"
    }
  },
  "cells": [
    {
      "cell_type": "markdown",
      "metadata": {
        "id": "view-in-github",
        "colab_type": "text"
      },
      "source": [
        "<a href=\"https://colab.research.google.com/github/mubowo/python-education-v2/blob/main/Introduction_to_Python_Programming_Day_2.ipynb\" target=\"_parent\"><img src=\"https://colab.research.google.com/assets/colab-badge.svg\" alt=\"Open In Colab\"/></a>"
      ]
    },
    {
      "cell_type": "markdown",
      "metadata": {
        "id": "kjDLRuKGuVOC"
      },
      "source": [
        "Introduction to Python Programming - Day 2\r\n",
        "\r\n",
        "Student : Tunggul Sutrambuko Mubowo\r\n",
        "\r\n",
        "Assignment :\r\n",
        "1. Create a List and Swap the second half of the List with the first half of the List and Print this list on the screen\r\n",
        "2. Ask the user to input a single digit integer to a variable \"n\". Then, print out all of the even numbers from 0 to n (including n)"
      ]
    },
    {
      "cell_type": "code",
      "metadata": {
        "colab": {
          "base_uri": "https://localhost:8080/"
        },
        "id": "xXs9-S3SuLY-",
        "outputId": "84734f65-97b7-4ea4-8ef6-72a3a167d8e9"
      },
      "source": [
        "# Initialize the list \r\n",
        "l = [19, 22, 898, 391, 81, 923, 74, 659, 283, 829, 8934, 33]\r\n",
        "\r\n",
        "print(\"\\nWhole list content : \", l ,\"\\n\")\r\n",
        "\r\n",
        "# find the middle index of the list\r\n",
        "z = len(l) // 2\r\n",
        "\r\n",
        "# initialize the empty list\r\n",
        "first_slice, second_slice, intermediary_slice = [], [], []\r\n",
        "\r\n",
        "# slice the full list into first and second slice of the list\r\n",
        "first_slice = l[:z]\r\n",
        "second_slice = l[z:]\r\n",
        "\r\n",
        "# check the content of the slice of the list\r\n",
        "print(\"\\nfirst slice before swap : \", first_slice)\r\n",
        "print(\"second slice before swap : \", second_slice)\r\n",
        "\r\n",
        "# Swap the first and the second slice of the list\r\n",
        "intermediate_slice = first_slice\r\n",
        "first_slice = second_slice\r\n",
        "second_slice = intermediate_slice\r\n",
        "\r\n",
        "# check the result of the swap\r\n",
        "print(\"\\nfirst slice after swap : \", first_slice)\r\n",
        "print(\"second slice after swap : \", second_slice)"
      ],
      "execution_count": 2,
      "outputs": [
        {
          "output_type": "stream",
          "text": [
            "\n",
            "Whole list content :  [19, 22, 898, 391, 81, 923, 74, 659, 283, 829, 8934, 33] \n",
            "\n",
            "\n",
            "first slice before swap :  [19, 22, 898, 391, 81, 923]\n",
            "second slice before swap :  [74, 659, 283, 829, 8934, 33]\n",
            "\n",
            "first slice after swap :  [74, 659, 283, 829, 8934, 33]\n",
            "second slice after swap :  [19, 22, 898, 391, 81, 923]\n"
          ],
          "name": "stdout"
        }
      ]
    },
    {
      "cell_type": "code",
      "metadata": {
        "id": "qU_R0Kl2u8a3"
      },
      "source": [
        ""
      ],
      "execution_count": null,
      "outputs": []
    }
  ]
}